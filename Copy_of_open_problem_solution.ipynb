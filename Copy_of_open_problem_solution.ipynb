{
  "nbformat": 4,
  "nbformat_minor": 0,
  "metadata": {
    "kernelspec": {
      "display_name": "Python 3",
      "language": "python",
      "name": "python3"
    },
    "language_info": {
      "codemirror_mode": {
        "name": "ipython",
        "version": 3
      },
      "file_extension": ".py",
      "mimetype": "text/x-python",
      "name": "python",
      "nbconvert_exporter": "python",
      "pygments_lexer": "ipython3",
      "version": "3.7.4"
    },
    "colab": {
      "name": "Copy of open_problem_solution.ipynb",
      "provenance": []
    }
  },
  "cells": [
    {
      "cell_type": "markdown",
      "metadata": {
        "id": "mI-veb2geQIe"
      },
      "source": [
        "# Solutions\n",
        "\n",
        "This notebook presents solutions for the problems in https://www.paradigm.xyz/open-problems/index.html in the zero-drift case.\n",
        "\n",
        "That is, given known $\\sigma$ and $\\gamma$, and setting $\\mu = \\frac{\\sigma^2}{2}$, we have:\n",
        "\n",
        "## 3.1 Growth Rate of LP Wealth\n",
        "\n",
        "$G = \\mathop{\\mathbb{E}}[\\displaystyle{\\lim_{T\\to\\inf}}\\frac{1}{T}\\log(W(T))] = \\frac{-\\sigma^2(1-\\gamma)}{(1+\\gamma)\\log{\\gamma}}\\frac{1+e}{e-1}C$\n",
        "\n",
        "Where $C\\approx0.11$ is $G$ in the case where $\\sigma=1, \\gamma=e^{-1}$\n",
        "\n",
        " <a href='#3_1'>proof</a>\n",
        "\n",
        "## 3.2  Optimal Fee\n",
        "\n",
        "Accordingly, there is no optimal fee. $G$ increases asysmptotically as fees are reduced and smaller and smaller variations in price are captured:\n",
        "\n",
        "$\\displaystyle{\\lim_{\\gamma\\to 1^-}} G = \\frac{\\sigma^2}{2}\\frac{1+e}{e-1}C$\n",
        "\n",
        "<a href='#3_2'>proof</a>\n",
        "\n",
        "\n",
        "## 3.3  Excess Return\n",
        "\n",
        "In the zero drift case, all $\\sigma$ and $\\gamma$ provide excess returns, as the expression in 3.1 cannot be negative."
      ]
    },
    {
      "cell_type": "code",
      "source": [
        ""
      ],
      "metadata": {
        "id": "wmulHxYPJ5x-"
      },
      "execution_count": null,
      "outputs": []
    },
    {
      "cell_type": "markdown",
      "metadata": {
        "id": "nbDSKqOneQIg"
      },
      "source": [
        "# Methodology\n",
        "\n",
        "One of the nice things about this setting is that we can simulate it almost perfectly.\n",
        "\n",
        "First, trades in the same direction are path independent. Second, there is a buffer around the AMM price where changes in the market price won't trigger any trades. That means that if we pick a small enough time step, the probability of two path-dependent (i.e. opposite-sided) trades occuring is nearly zero.\n",
        "\n",
        "I took advantage of this fact to build a simulation of the system in pytorch to help build my understanding and verify solutions.\n",
        "\n",
        "All code is available at https://github.com/david-alexander-white/lp_wealth"
      ]
    },
    {
      "cell_type": "code",
      "metadata": {
        "id": "UIlvj72feQIU"
      },
      "source": [
        "import torch\n",
        "import numpy as np\n",
        "import scipy.stats"
      ],
      "execution_count": null,
      "outputs": []
    },
    {
      "cell_type": "markdown",
      "metadata": {
        "id": "rTvrSuTReQIk"
      },
      "source": [
        "## Time Step\n",
        "\n",
        "Each of our time steps is going to have\n",
        "\n",
        "std. dev = $\\sigma * \\sqrt{\\Delta_t}$\n",
        "\n",
        "in log space, so as long as we make sure\n",
        "\n",
        "$2 * \\lvert \\log{\\gamma} \\rvert > 4 \\sigma * \\sqrt{\\Delta_t} \\iff \\Delta_t < \\frac{(\\log{\\gamma})^2}{4\\sigma^2}$\n",
        "\n",
        "then going from a trade to the upside to a trade to the downside will be a 4-sigma event.\n",
        "\n",
        "However, we still see a difference in sim results below what should be a small enough time step"
      ]
    },
    {
      "cell_type": "code",
      "metadata": {
        "id": "NtZvQvZWhl2x",
        "colab": {
          "base_uri": "https://localhost:8080/"
        },
        "outputId": "c67c6fc6-2304-49ad-c724-f45c9d45c7d8"
      },
      "source": [
        "!git clone https://github.com/david-alexander-white/lp_wealth\n",
        "%cd lp_wealth/"
      ],
      "execution_count": null,
      "outputs": [
        {
          "output_type": "stream",
          "text": [
            "Cloning into 'lp_wealth'...\n",
            "remote: Enumerating objects: 121, done.\u001b[K\n",
            "remote: Counting objects: 100% (121/121), done.\u001b[K\n",
            "remote: Compressing objects: 100% (62/62), done.\u001b[K\n",
            "remote: Total 121 (delta 68), reused 106 (delta 56), pack-reused 0\u001b[K\n",
            "Receiving objects: 100% (121/121), 351.57 KiB | 1.41 MiB/s, done.\n",
            "Resolving deltas: 100% (68/68), done.\n",
            "/content/lp_wealth\n"
          ],
          "name": "stdout"
        }
      ]
    },
    {
      "cell_type": "code",
      "metadata": {
        "id": "s26kKkseeQIm"
      },
      "source": [
        "import lp_wealth\n",
        "from sim_helpers import *\n",
        "from notebook_helpers import *"
      ],
      "execution_count": null,
      "outputs": []
    },
    {
      "cell_type": "code",
      "metadata": {
        "id": "JqJY9urfeQIr",
        "colab": {
          "base_uri": "https://localhost:8080/",
          "height": 525
        },
        "outputId": "4d9a5555-45c9-441f-a073-d82a5f474e93"
      },
      "source": [
        "num_samples = 200000\n",
        "\n",
        "sigma = torch.tensor(0.5)\n",
        "mu = sigma **2 / 2\n",
        "gamma = torch.tensor(0.5)\n",
        "\n",
        "max_time_step = get_max_time_step(gamma, sigma, mu)\n",
        "\n",
        "\n",
        "log10_max_time_step = np.log10(max_time_step)\n",
        "# Choose a ton of time steps ranging from 100x below our max to 100x above\n",
        "time_step_size = torch.tensor(np.logspace(log10_max_time_step -2, log10_max_time_step +2, num_samples), dtype=sigma.dtype) \n",
        "\n",
        "sim = lp_wealth.Sim(mu, sigma, gamma, time_step_size, num_samples)\n",
        "\n",
        "num_steps = 1000\n",
        "\n",
        "sim_loop(sim, num_steps, bb_adjustment_type=\"none\")\n",
        "\n",
        "bins = np.logspace(log10_max_time_step -2, log10_max_time_step +2, 100) \n",
        "\n",
        "ax = bin_plot(torch.log(time_step_size).numpy(), sim.compute_wealth_growth_rate())\n",
        "\n",
        "ax.set(xlabel='log10 time step', ylabel='G')\n",
        "plt.axvline(log10_max_time_step)"
      ],
      "execution_count": null,
      "outputs": [
        {
          "output_type": "stream",
          "text": [
            "1 0.034096479415893555\n",
            "101 1.5035505294799805\n",
            "201 1.5182573795318604\n",
            "301 1.5386462211608887\n",
            "401 1.613677978515625\n",
            "501 1.6796338558197021\n",
            "601 1.7463362216949463\n",
            "701 1.7715604305267334\n",
            "801 1.7887680530548096\n",
            "901 1.8176791667938232\n"
          ],
          "name": "stdout"
        },
        {
          "output_type": "stream",
          "text": [
            "/usr/local/lib/python3.6/dist-packages/seaborn/_decorators.py:43: FutureWarning: Pass the following variables as keyword args: x, y. From version 0.12, the only valid positional argument will be `data`, and passing other arguments without an explicit keyword will result in an error or misinterpretation.\n",
            "  FutureWarning\n"
          ],
          "name": "stderr"
        },
        {
          "output_type": "execute_result",
          "data": {
            "text/plain": [
              "<matplotlib.lines.Line2D at 0x7f3441cc5710>"
            ]
          },
          "metadata": {
            "tags": []
          },
          "execution_count": 4
        },
        {
          "output_type": "display_data",
          "data": {
            "image/png": "[encoded data removed]",
            "text/plain": [
              "<Figure size 432x288 with 1 Axes>"
            ]
          },
          "metadata": {
            "tags": [],
            "needs_background": "light"
          }
        }
      ]
    },
    {
      "cell_type": "markdown",
      "metadata": {
        "id": "IGxv9mgleQIy"
      },
      "source": [
        "## This problem can be fixed with a sampling adjustment\n",
        "\n",
        "> Indented block\n",
        "\n",
        "\n",
        "\n",
        "The problem is that we care about the most extreme values attained by the market price, which may occur in between our sampling steps. For example, if the price was 10 at the last step and 11 now, it may have been 12 in between.\n",
        "\n",
        "Happily, the distribution of this maximum is known -- see https://www.researchgate.net/publication/236984395_On_the_maximum_of_the_generalized_Brownian_bridge eq. (2.7)\n",
        "\n",
        "We can sample from this distribution to find the trades that went off between sample times."
      ]
    },
    {
      "cell_type": "code",
      "metadata": {
        "id": "WLF-i4XyeQIz",
        "colab": {
          "base_uri": "https://localhost:8080/",
          "height": 525
        },
        "outputId": "b99bfa48-9eef-48c5-a6e0-3f2a14d2c0b9"
      },
      "source": [
        "log10_max_time_step = np.log10(max_time_step)\n",
        "# Choose a ton of time steps ranging from 100x below our max to 100x above\n",
        "time_step_size = torch.tensor(np.logspace(log10_max_time_step -2, log10_max_time_step +2, num_samples), dtype=sigma.dtype) \n",
        "\n",
        "sim = lp_wealth.Sim(mu, sigma, gamma, time_step_size, num_samples)\n",
        "\n",
        "sim_loop(sim, num_steps, bb_adjustment_type=\"sample\")\n",
        "\n",
        "\n",
        "ax = bin_plot(torch.log(time_step_size), sim.compute_wealth_growth_rate())\n",
        "ax.set(xlabel='log10 time step', ylabel='G')\n",
        "plt.axvline(log10_max_time_step)"
      ],
      "execution_count": null,
      "outputs": [
        {
          "output_type": "stream",
          "text": [
            "1 0.028178930282592773\n",
            "101 2.5659215450286865\n",
            "201 2.522130250930786\n",
            "301 2.5092406272888184\n",
            "401 2.4903995990753174\n",
            "501 2.500863790512085\n",
            "601 2.4845306873321533\n",
            "701 2.475583553314209\n",
            "801 2.5602526664733887\n",
            "901 2.5322368144989014\n"
          ],
          "name": "stdout"
        },
        {
          "output_type": "stream",
          "text": [
            "/usr/local/lib/python3.6/dist-packages/seaborn/_decorators.py:43: FutureWarning: Pass the following variables as keyword args: x, y. From version 0.12, the only valid positional argument will be `data`, and passing other arguments without an explicit keyword will result in an error or misinterpretation.\n",
            "  FutureWarning\n"
          ],
          "name": "stderr"
        },
        {
          "output_type": "execute_result",
          "data": {
            "text/plain": [
              "<matplotlib.lines.Line2D at 0x7f9f96e30da0>"
            ]
          },
          "metadata": {
            "tags": []
          },
          "execution_count": 5
        },
        {
          "output_type": "display_data",
          "data": {
            "image/png": "[encoded data removed]",
            "text/plain": [
              "<Figure size 432x288 with 1 Axes>"
            ]
          },
          "metadata": {
            "tags": [],
            "needs_background": "light"
          }
        }
      ]
    },
    {
      "cell_type": "markdown",
      "metadata": {
        "id": "X8402CqeeQI5"
      },
      "source": [
        "<a id='3_1'></a>"
      ]
    },
    {
      "cell_type": "markdown",
      "metadata": {
        "id": "6GEBB4kweQI7"
      },
      "source": [
        "# Proof of 3.1\n",
        "\n",
        "Let wealth grown rate given $\\mu, \\sigma, \\gamma = G(\\mu,\\sigma, \\gamma)$\n",
        "\n",
        "### 1.) $\\forall k \\in \\mathbb{R}^+, G(0, k\\sigma, \\gamma) = k^2 G(0, \\sigma, \\gamma) $\n",
        "\n",
        "The intuition here is that multiplying $\\sigma$ by a constant $k$ has the same effect as speeding up the passage of time by $k^2$, which means growth rate will be $k^2$ higher."
      ]
    },
    {
      "cell_type": "code",
      "metadata": {
        "id": "hFQ7l7YNeQI8",
        "colab": {
          "base_uri": "https://localhost:8080/",
          "height": 548
        },
        "outputId": "dd4766eb-a474-4c6a-a50a-1785c9579a11"
      },
      "source": [
        "num_samples = 100000\n",
        "\n",
        "k = torch.arange(0., num_samples, 1) / num_samples * 10 + 0.1\n",
        "sigma = k\n",
        "init_mu = 0\n",
        "mu = init_mu * k**2\n",
        "gamma = torch.tensor(0.6)\n",
        "\n",
        "time_step = get_max_time_step(gamma, sigma, mu)\n",
        "num_steps = get_min_time_steps(sigma, gamma, time_step)\n",
        "\n",
        "sim = lp_wealth.Sim(mu, sigma, gamma, time_step, num_samples)\n",
        "\n",
        "sim_loop(sim, num_steps)\n",
        "\n",
        "ax = bin_plot(k**2, sim.compute_wealth_growth_rate())\n",
        "\n",
        "ax.set(xlabel='$\\k^2$', ylabel='G')"
      ],
      "execution_count": null,
      "outputs": [
        {
          "output_type": "stream",
          "text": [
            "1 0.01744365692138672\n",
            "408 5.303509712219238\n",
            "815 5.170686721801758\n",
            "1222 5.304445028305054\n",
            "1629 5.327927112579346\n",
            "2036 5.17518424987793\n",
            "2443 5.275658130645752\n",
            "2850 5.4119648933410645\n",
            "3257 5.220607280731201\n",
            "3664 5.2373292446136475\n",
            "4071 5.2553794384002686\n"
          ],
          "name": "stdout"
        },
        {
          "output_type": "stream",
          "text": [
            "/usr/local/lib/python3.6/dist-packages/seaborn/_decorators.py:43: FutureWarning: Pass the following variables as keyword args: x, y. From version 0.12, the only valid positional argument will be `data`, and passing other arguments without an explicit keyword will result in an error or misinterpretation.\n",
            "  FutureWarning\n"
          ],
          "name": "stderr"
        },
        {
          "output_type": "execute_result",
          "data": {
            "text/plain": [
              "[Text(0, 0.5, 'G'), Text(0.5, 0, '$\\\\k^2$')]"
            ]
          },
          "metadata": {
            "tags": []
          },
          "execution_count": 6
        },
        {
          "output_type": "display_data",
          "data": {
            "image/png": "[encoded data removed]",
            "text/plain": [
              "<Figure size 432x288 with 1 Axes>"
            ]
          },
          "metadata": {
            "tags": [],
            "needs_background": "light"
          }
        }
      ]
    },
    {
      "cell_type": "markdown",
      "metadata": {
        "id": "pmvMvbqReQJE"
      },
      "source": [
        "### 2.) $\\forall k \\in \\mathbb{R}^+, G(\\frac{k^2\\sigma^2}{2}, k\\sigma, \\gamma^k) = k\\frac{1-\\gamma^k}{1+\\gamma^k}\\frac{1 + \\gamma}{1-\\gamma} G(\\frac{\\sigma^2}{2}, \\sigma, \\gamma) $\n"
      ]
    },
    {
      "cell_type": "markdown",
      "metadata": {
        "id": "k2KBPgCUeQJF"
      },
      "source": [
        "The key intuition here is that, when viewed in log space, the AMM price $m_u$ is always inside a band of width $-2\\log{\\gamma}$ around the market price $m_p$, and trades occur at the boundary.\n",
        "\n",
        "In the zero-drift case, by scaling both $\\sigma$ and $\\gamma$, we can scale both $m_p$ and the band, leading to a zoomed out view of the exact same behavior."
      ]
    },
    {
      "cell_type": "markdown",
      "metadata": {
        "id": "6UZ1xxhKeQJG"
      },
      "source": [
        "## Lemma \n",
        "\n",
        "Since\n",
        "\n",
        "$\\log{W(t)} = \\log{R_\\alpha m_p + R_\\beta} = \\log{R_\\beta} + \\log{(1 + \\frac{R_\\alpha m_p}{R_\\beta})} = \\log{R_\\beta} + \\log{(1 + \\frac{m_p}{m_u})}$\n",
        "\n",
        "Then we have\n",
        "\n",
        "$G = \\mathop{\\mathbb{E}}[\\displaystyle{\\lim_{T\\to\\inf}}\\frac{1}{T}\\log(W(T))] = \\mathop{\\mathbb{E}}[\\displaystyle{\\lim_{T\\to\\inf}}\\frac{1}{T}\\log(R_\\alpha m_p + R_\\beta)] =  \\mathop{\\mathbb{E}}[\\displaystyle{\\lim_{T\\to\\inf}}\\frac{1}{T}(\\log{R_\\beta})] $\n",
        "\n",
        "since $\\gamma \\leq \\frac{m_p}{m_u} \\leq \\frac{1}{\\gamma}$ so $\\log{(1 + \\frac{m_p}{m_u})}$ has a finite bound and will get averaged out. \n",
        "\n",
        "Now, when $\\mu = \\frac{\\sigma^2}{2}$, there's no drift in $\\log{m_p}$, so by symmetry\n",
        "\n",
        "$\\mathop{\\mathbb{E}}[\\displaystyle{\\lim_{T\\to\\inf}}\\frac{1}{T}(\\log{R_\\beta})] = \\mathop{\\mathbb{E}}[\\displaystyle{\\lim_{T\\to\\inf}}\\frac{1}{T}(\\log{R_\\alpha})]$\n",
        "\n",
        "and we have $G = \\mathop{\\mathbb{E}}[\\displaystyle{\\lim_{T\\to\\inf}}\\frac{1}{2T}(\\log{R_\\alpha} + \\log{R_\\beta})]$"
      ]
    },
    {
      "cell_type": "markdown",
      "metadata": {
        "id": "afABojUYeQJH"
      },
      "source": [
        "## Main argument\n",
        "\n",
        "Consider a single realization of our system of random variables -- i.e. one path in the geometric Brownian motion, and all the associated variables, which will change deterministically based on it.\n",
        "\n",
        "We are going to compare what happens in this realization to what happens in the scaled realization.\n",
        "\n",
        "We'll abuse notation a little bit and denote variables in the scaled realization with a prime mark ($'$). So $m_p' = k m_p$ (since we're in the 0 drift setting), $m_u'=km_u$, $\\gamma' = \\gamma^k$, etc.\n",
        "\n",
        "WLOG, consider what happens when $\\gamma m_p > m_u$ -- i.e. the market price has drifted above the AMM price by more than our fee.\n",
        "\n",
        "An arb will go off, after which we will have $R_\\alpha(t+\\delta t) = R_\\alpha(t)C_l^{-\\frac{\\gamma}{\\gamma+1}}$\n",
        "\n",
        "so\n",
        "\n",
        "$\\log{R_\\alpha(t+\\delta t)} = \\log{R_\\alpha(t)} -\\frac{\\gamma}{\\gamma+1}\\log{C_l}$\n",
        "\n",
        "similarly,\n",
        "\n",
        "$\\log{R_\\beta(t+\\delta t)} = \\log{R_\\beta(t)} +\\frac{1}{\\gamma+1}\\log{C_l}$\n",
        "\n",
        "so\n",
        "\n",
        "$\\Delta_l = \\log{R_\\alpha(t+\\delta t)} + \\log{R_\\beta(t+\\delta t)} - (\\log{R_\\alpha(t)} + \\log{R_\\beta(t)})=  \\frac{1-\\gamma}{\\gamma+1}\\log{C_l}$\n",
        "\n",
        "\n",
        "Now, $C_l = \\gamma\\frac{m_p}{m_u} \\iff \\log{C_l} = \\log{\\gamma} + \\log{m_p} - \\log{m_u}$.\n",
        "\n",
        "Each term in the RHS gets scaled by $k$ in the scaled realization, so we have $\\log{C_l'} = k\\log{C_l}$.\n",
        "\n",
        "So then we obtain \n",
        "\n",
        "$\\Delta'_l = \\log{R'_\\alpha(t+\\delta t)} + \\log{R'_\\beta(t+\\delta t)} - (\\log{R'_\\alpha(t)} + \\log{R'_\\beta(t)})=  \\frac{1-\\gamma'}{\\gamma'+1}\\log{C'_l} = \\frac{1-\\gamma'}{\\gamma'+1}\\log{C'_l} = k\\frac{1-\\gamma^k}{1+\\gamma^k}\\log{C_l}$\n",
        "\n",
        "And, dividing through, $\\frac{\\Delta'_l}{\\Delta_l} = k\\frac{1-\\gamma^k}{1+\\gamma^k}\\frac{1+\\gamma}{1-\\gamma}$\n",
        "\n",
        "Integrating, we obtain \n",
        "\n",
        "$\\log{R'_\\alpha} + \\log{R'_\\beta} = k\\frac{1-\\gamma^k}{1+\\gamma^k}\\frac{1+\\gamma}{1-\\gamma}( \\log{R_\\alpha} + \\log{R_\\beta})$\n",
        "\n",
        "\n",
        "Since this is true for all paths, when we combine this with the lemma, we see that in fact $G(\\frac{k^2\\sigma^2}{2}, k\\sigma, \\gamma^k) = k\\frac{1-\\gamma^k}{1+\\gamma^k}\\frac{1 + \\gamma}{1-\\gamma} G(\\frac{\\sigma^2}{2}, \\sigma, \\gamma)$\n",
        "\n"
      ]
    },
    {
      "cell_type": "code",
      "metadata": {
        "id": "fg5wfuj5eQJH",
        "colab": {
          "base_uri": "https://localhost:8080/",
          "height": 529
        },
        "outputId": "908e3323-4d39-4f00-a70b-97caf83947c0"
      },
      "source": [
        "num_samples = 100000\n",
        "\n",
        "k = torch.arange(0., num_samples, 1) / num_samples * 10 + 0.01\n",
        "init_sigma = 0.1\n",
        "sigma = init_sigma * k\n",
        "mu = sigma**2 / 2\n",
        "init_gamma = torch.tensor(0.5)\n",
        "gamma = init_gamma ** k\n",
        "\n",
        "time_step = get_max_time_step(gamma, sigma, mu)\n",
        "num_steps = get_min_time_steps(sigma, gamma, time_step)\n",
        "\n",
        "sim = lp_wealth.Sim(mu, sigma, gamma, time_step, num_samples)\n",
        "\n",
        "sim_loop(sim, num_steps)\n",
        "\n",
        "pred = (k * (1+init_gamma)/(1-init_gamma)*(1-gamma)/(1+gamma)).numpy()\n",
        "\n",
        "ax = bin_plot(pred, sim.compute_wealth_growth_rate())\n",
        "ax.set(xlabel='$pred$', ylabel='G')"
      ],
      "execution_count": null,
      "outputs": [
        {
          "output_type": "stream",
          "text": [
            "1 0.01465749740600586\n",
            "41 0.6280338764190674\n",
            "81 0.605832576751709\n",
            "121 0.6040115356445312\n",
            "161 0.6085479259490967\n",
            "201 0.6686747074127197\n",
            "241 0.6466717720031738\n",
            "281 0.6034483909606934\n",
            "321 0.5881919860839844\n",
            "361 0.6002218723297119\n"
          ],
          "name": "stdout"
        },
        {
          "output_type": "stream",
          "text": [
            "/usr/local/lib/python3.6/dist-packages/seaborn/_decorators.py:43: FutureWarning: Pass the following variables as keyword args: x, y. From version 0.12, the only valid positional argument will be `data`, and passing other arguments without an explicit keyword will result in an error or misinterpretation.\n",
            "  FutureWarning\n"
          ],
          "name": "stderr"
        },
        {
          "output_type": "execute_result",
          "data": {
            "text/plain": [
              "[Text(0, 0.5, 'G'), Text(0.5, 0, '$pred$')]"
            ]
          },
          "metadata": {
            "tags": []
          },
          "execution_count": 7
        },
        {
          "output_type": "display_data",
          "data": {
            "image/png": "[encoded data removed]",
            "text/plain": [
              "<Figure size 432x288 with 1 Axes>"
            ]
          },
          "metadata": {
            "tags": [],
            "needs_background": "light"
          }
        }
      ]
    },
    {
      "cell_type": "markdown",
      "metadata": {
        "id": "ydaCtnf5eQJM"
      },
      "source": [
        "### 3.) $\\forall k \\in \\mathbb{R}^+, G(\\frac{\\sigma^2}{2}, \\sigma, \\gamma^k) = \\frac{1}{k}\\frac{1+\\gamma}{1-\\gamma}\\frac{1-\\gamma^k}{1+\\gamma^k} G(\\frac{\\sigma^2}{2}, \\sigma, \\gamma)$\n",
        "\n",
        "Obtained simply by combining (1) and (2).\n"
      ]
    },
    {
      "cell_type": "code",
      "metadata": {
        "id": "rhub2x5BeQJN",
        "colab": {
          "base_uri": "https://localhost:8080/",
          "height": 511
        },
        "outputId": "234db388-fbdc-4ad8-886d-319aad5322eb"
      },
      "source": [
        "num_samples = 100000\n",
        "\n",
        "k = torch.arange(0., num_samples, 1) / num_samples * 10  + 0.01\n",
        "sigma = torch.tensor(1.)\n",
        "mu = sigma**2 / 2\n",
        "init_gamma = torch.tensor(0.5)\n",
        "gamma = init_gamma ** k\n",
        "\n",
        "time_step = get_max_time_step(gamma, sigma, mu)\n",
        "num_steps = get_min_time_steps(sigma, gamma, time_step)\n",
        "\n",
        "sim = lp_wealth.Sim(mu, sigma, gamma, time_step, num_samples)\n",
        "\n",
        "sim_loop(sim, num_steps)\n",
        "\n",
        "pred = (1/k * (1+init_gamma)/(1-init_gamma)*(1-init_gamma**(k))/(1+init_gamma**k)).numpy()\n",
        "\n",
        "bin_plot(pred, sim.compute_wealth_growth_rate())\n",
        "\n",
        "ax.set(xlabel='$pred$', ylabel='G')"
      ],
      "execution_count": null,
      "outputs": [
        {
          "output_type": "stream",
          "text": [
            "1 0.014593362808227539\n",
            "41 0.5674123764038086\n",
            "81 0.545142412185669\n",
            "121 0.5432090759277344\n",
            "161 0.5754890441894531\n",
            "201 0.5829348564147949\n",
            "241 0.5575718879699707\n",
            "281 0.5653588771820068\n",
            "321 0.5639450550079346\n",
            "361 0.5501260757446289\n"
          ],
          "name": "stdout"
        },
        {
          "output_type": "stream",
          "text": [
            "/usr/local/lib/python3.6/dist-packages/seaborn/_decorators.py:43: FutureWarning: Pass the following variables as keyword args: x, y. From version 0.12, the only valid positional argument will be `data`, and passing other arguments without an explicit keyword will result in an error or misinterpretation.\n",
            "  FutureWarning\n"
          ],
          "name": "stderr"
        },
        {
          "output_type": "execute_result",
          "data": {
            "text/plain": [
              "[Text(17.200000000000003, 0.5, 'G'), Text(0.5, 21.200000000000003, '$pred$')]"
            ]
          },
          "metadata": {
            "tags": []
          },
          "execution_count": 8
        },
        {
          "output_type": "display_data",
          "data": {
            "image/png": "[encoded data removed]",
            "text/plain": [
              "<Figure size 432x288 with 1 Axes>"
            ]
          },
          "metadata": {
            "tags": [],
            "needs_background": "light"
          }
        }
      ]
    },
    {
      "cell_type": "markdown",
      "metadata": {
        "id": "HewDYJ_deQJT"
      },
      "source": [
        "<a id='3_2'></a>"
      ]
    },
    {
      "cell_type": "markdown",
      "metadata": {
        "id": "59aprG7meQJU"
      },
      "source": [
        "# Optimal Fee\n",
        "\n",
        "There is no optimal $\\gamma$ in the no-drift case. LPs make more and more money as $\\gamma$ is brought closer to 1, although profits approach an asymptote:\n",
        "\n",
        "\n",
        "$\\displaystyle{\\lim_{k\\to 0^+}} G(\\frac{\\sigma^2}{2}, \\sigma, \\gamma^k)= \\displaystyle{\\lim_{k\\to 0}} \\frac{1}{k}\\frac{1+\\gamma}{1-\\gamma}\\frac{1-\\gamma^k}{1+\\gamma^k} G(\\frac{\\sigma^2}{2}, \\sigma, \\gamma) = -\\frac{(1+\\gamma)\\log{\\gamma}}{2(1-\\gamma)} G(\\frac{\\sigma^2}{2}, \\sigma, \\gamma)$"
      ]
    },
    {
      "cell_type": "code",
      "metadata": {
        "id": "4KDMrXpaeQJW",
        "colab": {
          "base_uri": "https://localhost:8080/",
          "height": 337
        },
        "outputId": "e2240d37-ae46-467a-c87c-f11a5e9c8582"
      },
      "source": [
        "k = np.arange(1, 100)/10 + 0.001\n",
        "gamma = .5\n",
        "ans = 1 / k * (1+gamma) / (1-gamma)*(1-gamma**k)/(1+gamma**k)\n",
        "sbn.scatterplot(k, ans)\n",
        "plt.axhline(-np.log(gamma)/2*(1+gamma)/(1-gamma))"
      ],
      "execution_count": null,
      "outputs": [
        {
          "output_type": "stream",
          "text": [
            "/usr/local/lib/python3.6/dist-packages/seaborn/_decorators.py:43: FutureWarning: Pass the following variables as keyword args: x, y. From version 0.12, the only valid positional argument will be `data`, and passing other arguments without an explicit keyword will result in an error or misinterpretation.\n",
            "  FutureWarning\n"
          ],
          "name": "stderr"
        },
        {
          "output_type": "execute_result",
          "data": {
            "text/plain": [
              "<matplotlib.lines.Line2D at 0x7f9f96d5ed30>"
            ]
          },
          "metadata": {
            "tags": []
          },
          "execution_count": 9
        },
        {
          "output_type": "display_data",
          "data": {
            "image/png": "[encoded data removed]",
            "text/plain": [
              "<Figure size 432x288 with 1 Axes>"
            ]
          },
          "metadata": {
            "tags": [],
            "needs_background": "light"
          }
        }
      ]
    }
  ]
}